{
 "cells": [
  {
   "cell_type": "code",
   "execution_count": null,
   "metadata": {},
   "outputs": [],
   "source": [
    "import os\n",
    "import torch\n",
    "import torchvision\n",
    "import torchvision.transforms as transforms\n",
    "from torchvision.models import resnet18\n",
    "from torch.utils.tensorboard import SummaryWriter\n",
    "from torch.utils.data import DataLoader, Subset\n",
    "from torchvision.datasets import ImageFolder\n",
    "import torch.optim as optim\n",
    "import torch.nn as nn\n",
    "import numpy as np\n",
    "import pandas as pd"
   ]
  },
  {
   "cell_type": "code",
   "execution_count": null,
   "metadata": {},
   "outputs": [],
   "source": [
    "# 设置数据路径\n",
    "data_dir = 'D:\\FDU\\Course\\DeepLearning\\midterm\\CUB_200_2011\\CUB_200_2011'\n",
    "images_dir = os.path.join(data_dir, 'images')\n",
    "\n",
    "# 读取划分文件\n",
    "split_data = pd.read_csv(os.path.join(data_dir, 'train_test_split.txt'), \n",
    "                         delim_whitespace=True, header=None, names=['id', 'train_flag'])\n",
    "\n",
    "# 设置图像变换\n",
    "transformations = transforms.Compose([\n",
    "    transforms.Resize(256),\n",
    "    transforms.CenterCrop(224),\n",
    "    transforms.ToTensor(),\n",
    "    transforms.Normalize(mean=[0.485, 0.456, 0.406], std=[0.229, 0.224, 0.225])\n",
    "])\n",
    "\n",
    "# 加载全部图像\n",
    "full_dataset = ImageFolder(root=images_dir, transform=transformations)\n",
    "\n",
    "# 分割训练集和测试集\n",
    "train_idx = split_data[split_data['train_flag'] == 1]['id'].values - 1\n",
    "test_idx = split_data[split_data['train_flag'] == 0]['id'].values - 1\n",
    "\n",
    "train_dataset = Subset(full_dataset, train_idx)\n",
    "test_dataset = Subset(full_dataset, test_idx)"
   ]
  },
  {
   "cell_type": "code",
   "execution_count": null,
   "metadata": {},
   "outputs": [],
   "source": [
    "train_loader = DataLoader(dataset=train_dataset, batch_size=32, shuffle=True)\n",
    "test_loader = DataLoader(dataset=test_dataset, batch_size=32, shuffle=False)"
   ]
  },
  {
   "cell_type": "code",
   "execution_count": null,
   "metadata": {},
   "outputs": [],
   "source": [
    "def train(model, loader, optimizer, criterion, device):\n",
    "    model.train()\n",
    "    running_loss = 0.0\n",
    "    for inputs, labels in loader:\n",
    "        inputs, labels = inputs.to(device), labels.to(device)\n",
    "        optimizer.zero_grad()\n",
    "        outputs = model(inputs)\n",
    "        loss = criterion(outputs, labels)\n",
    "        loss.backward()\n",
    "        optimizer.step()\n",
    "        running_loss += loss.item() * inputs.size(0)\n",
    "    return running_loss / len(loader.dataset)\n",
    "\n",
    "def validate(model, loader, criterion, device):\n",
    "    model.eval()\n",
    "    running_loss = 0.0\n",
    "    correct = 0\n",
    "    with torch.no_grad():\n",
    "        for inputs, labels in loader:\n",
    "            inputs, labels = inputs.to(device), labels.to(device)\n",
    "            outputs = model(inputs)\n",
    "            loss = criterion(outputs, labels)\n",
    "            _, preds = torch.max(outputs, 1)\n",
    "            correct += torch.sum(preds == labels.data)\n",
    "            running_loss += loss.item() * inputs.size(0)\n",
    "    accuracy = correct.double() / len(loader.dataset)\n",
    "    return running_loss / len(loader.dataset), accuracy.item()\n"
   ]
  },
  {
   "cell_type": "code",
   "execution_count": null,
   "metadata": {},
   "outputs": [],
   "source": [
    "# 加载预训练的ResNet-18模型\n",
    "model = resnet18(pretrained=True)\n",
    "\n",
    "# 修改输出层\n",
    "num_ftrs = model.fc.in_features\n",
    "model.fc = nn.Linear(num_ftrs, 200)\n",
    "\n",
    "\n",
    "# 定义设备\n",
    "device = torch.device(\"cuda\" if torch.cuda.is_available() else \"cpu\")\n",
    "model.to(device)\n",
    "\n",
    "# 为新的输出层设置高学习率，其他层设置低学习率\n",
    "params_to_update = []\n",
    "params_names = []\n",
    "\n",
    "# 只对非全连接层参数应用低学习率\n",
    "for name, param in model.named_parameters():\n",
    "    if param.requires_grad == True:\n",
    "        if name not in ['fc.weight', 'fc.bias']:\n",
    "            params_to_update.append(param)\n",
    "            params_names.append(name)\n"
   ]
  },
  {
   "cell_type": "code",
   "execution_count": null,
   "metadata": {},
   "outputs": [],
   "source": [
    "for learning_rate in [0.01,0.05,0.1]:\n",
    "    for e in [5,10,20]:\n",
    "        # 初始化TensorBoard\n",
    "        writer = SummaryWriter('runs/birds_experiment_'+str(e)+'_'+str(learning_rate))\n",
    "\n",
    "        # 使用两个参数组\n",
    "        optimizer = optim.SGD([\n",
    "            {'params': model.fc.parameters(), 'lr': learning_rate},  # 高学习率仅适用于全连接层\n",
    "            {'params': params_to_update, 'lr': 0.001}       # 低学习率适用于其余层\n",
    "        ], momentum=0.9)\n",
    "\n",
    "\n",
    "        # 损失函数\n",
    "        criterion = nn.CrossEntropyLoss()\n",
    "\n",
    "        epochs = e\n",
    "        for epoch in range(epochs):\n",
    "            train_loss = train(model, train_loader, optimizer, criterion, device)\n",
    "            test_loss, test_accuracy = validate(model, test_loader, criterion, device)\n",
    "            print(f'Epoch {epoch+1}, Train Loss: {train_loss}, Test Loss: {test_loss}, Test Accuracy: {test_accuracy}')\n",
    "            writer.add_scalar('Loss/Train', train_loss, epoch)\n",
    "            writer.add_scalar('Loss/Test', test_loss, epoch)\n",
    "            writer.add_scalar('Accuracy/Test', test_accuracy, epoch)\n",
    "\n",
    "        writer.close()\n"
   ]
  }
 ],
 "metadata": {
  "kernelspec": {
   "display_name": "Python 3",
   "language": "python",
   "name": "python3"
  },
  "language_info": {
   "codemirror_mode": {
    "name": "ipython",
    "version": 3
   },
   "file_extension": ".py",
   "mimetype": "text/x-python",
   "name": "python",
   "nbconvert_exporter": "python",
   "pygments_lexer": "ipython3",
   "version": "3.11.7"
  }
 },
 "nbformat": 4,
 "nbformat_minor": 2
}
